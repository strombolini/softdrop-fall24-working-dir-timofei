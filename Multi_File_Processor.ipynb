{
 "cells": [
  {
   "cell_type": "code",
   "execution_count": 11,
   "id": "1ebb9a35-87f0-4d32-afaa-c42351667f7a",
   "metadata": {},
   "outputs": [
    {
     "name": "stdout",
     "output_type": "stream",
     "text": [
      "The autoreload extension is already loaded. To reload it, use:\n",
      "  %reload_ext autoreload\n"
     ]
    }
   ],
   "source": [
    "%load_ext autoreload\n",
    "from coffea import util, processor\n",
    "from msdprocessor5 import msdProcessor\n",
    "\n",
    "from coffea.nanoevents import NanoEventsFactory, PFNanoAODSchema\n",
    "import json\n",
    "import distributed\n",
    "import dask\n",
    "import awkward as ak\n",
    "import hist\n",
    "import numpy as np\n",
    "import matplotlib.pyplot as plt\n",
    "from matplotlib.colors import LogNorm\n",
    "from matplotlib.animation import FuncAnimation, PillowWriter\n",
    "import matplotlib.colors as mcolors\n",
    "from mpl_toolkits.mplot3d import Axes3D\n",
    "from hist import Hist\n",
    "import dask_awkward\n",
    "import os\n",
    "import math"
   ]
  },
  {
   "cell_type": "code",
   "execution_count": 12,
   "id": "542622f9-8766-478d-89b8-fee7b03f831a",
   "metadata": {},
   "outputs": [
    {
     "name": "stdout",
     "output_type": "stream",
     "text": [
      "Fileset: ['/uscms/home/jennetd/nobackup/hbb-prod-modes/run3-triggers/data-mc/ggF.root', '/uscms/home/jennetd/nobackup/hbb-prod-modes/run3-triggers/data-mc/VBF.root', '/uscms/home/jennetd/nobackup/hbb-prod-modes/run3-triggers/data-mc/WminusH.root', '/uscms/home/jennetd/nobackup/hbb-prod-modes/run3-triggers/data-mc/ZH.root', '/uscms/home/jennetd/nobackup/hbb-prod-modes/run3-triggers/data-mc/QCD_Pt470to600.root']\n"
     ]
    }
   ],
   "source": [
    "directory_path = \"/uscms/home/jennetd/nobackup/hbb-prod-modes/run3-triggers/data-mc/\"\n",
    "\n",
    "#Generating the fileset\n",
    "\n",
    "#If you want to process less files, specify that here:\n",
    "\n",
    "fileset = []\n",
    "for filename in os.listdir(directory_path):\n",
    "    if filename.endswith(\".root\"):\n",
    "        fileset.append(os.path.join(directory_path, filename))\n",
    "\n",
    "print(\"Fileset:\", fileset)"
   ]
  },
  {
   "cell_type": "code",
   "execution_count": 13,
   "id": "81fd3f3d-9e9b-41e7-9e30-73c6d1ae182f",
   "metadata": {},
   "outputs": [],
   "source": [
    "#SET SOFTDROP PARAMETERS HERE\n",
    "\n",
    "n_global = 1\n",
    "beta_range_global = 0  \n",
    "z_cut_range_global = 1 \n",
    "\n",
    "#///////"
   ]
  },
  {
   "cell_type": "code",
   "execution_count": 14,
   "id": "2040bedb-bebe-4a47-8fea-a124e372cfcc",
   "metadata": {},
   "outputs": [],
   "source": [
    "#Truncates to 3 decimal places\n",
    "\n",
    "def trunc(num):\n",
    "    return math.trunc(num * 1000) / 1000"
   ]
  },
  {
   "cell_type": "code",
   "execution_count": 15,
   "id": "be5aaa4c-b436-4c84-b7c2-774eb59b9915",
   "metadata": {},
   "outputs": [
    {
     "name": "stdout",
     "output_type": "stream",
     "text": [
      "\n",
      "Processing file:  /uscms/home/jennetd/nobackup/hbb-prod-modes/run3-triggers/data-mc/ggF.root\n",
      "Production mode:  ggF\n"
     ]
    },
    {
     "name": "stderr",
     "output_type": "stream",
     "text": [
      "/uscms/home/tbabenko/nobackup/miniconda3/envs/fastjet/lib/python3.12/site-packages/coffea/nanoevents/methods/candidate.py:11: FutureWarning: In version 2024.7.0 (target date: 2024-06-30 11:59:59-05:00), this will be an error.\n",
      "To raise these warnings as errors (and get stack traces to find out where they're called), run\n",
      "    import warnings\n",
      "    warnings.filterwarnings(\"error\", module=\"coffea.*\")\n",
      "after the first `import coffea` or use `@pytest.mark.filterwarnings(\"error:::coffea.*\")` in pytest.\n",
      "Issue: coffea.nanoevents.methods.vector will be removed and replaced with scikit-hep vector. Nanoevents schemas internal to coffea will be migrated. Otherwise please consider using that package!.\n",
      "  from coffea.nanoevents.methods import vector\n"
     ]
    },
    {
     "name": "stdout",
     "output_type": "stream",
     "text": [
      "\n",
      "Processing file:  /uscms/home/jennetd/nobackup/hbb-prod-modes/run3-triggers/data-mc/VBF.root\n",
      "Production mode:  VBF\n",
      "\n",
      "Processing file:  /uscms/home/jennetd/nobackup/hbb-prod-modes/run3-triggers/data-mc/WminusH.root\n",
      "Production mode:  WminusH\n",
      "\n",
      "Processing file:  /uscms/home/jennetd/nobackup/hbb-prod-modes/run3-triggers/data-mc/ZH.root\n",
      "Production mode:  ZH\n",
      "\n",
      "Processing file:  /uscms/home/jennetd/nobackup/hbb-prod-modes/run3-triggers/data-mc/QCD_Pt470to600.root\n",
      "Production mode:  QCD_Pt470to600\n",
      "[dask.awkward<from-uproot, npartitions=1>, dask.awkward<from-uproot, npartitions=1>, dask.awkward<from-uproot, npartitions=1>, dask.awkward<from-uproot, npartitions=1>, dask.awkward<from-uproot, npartitions=1>]\n"
     ]
    }
   ],
   "source": [
    "events_matrix = []\n",
    "prod_mode_matrix = []\n",
    "index = 0\n",
    "\n",
    "#Construct a matrix of 1 event per 1 file\n",
    "\n",
    "for file in fileset:\n",
    "    prod_mode_matrix.append(file.split('/data-mc/')[-1].replace('.root', ''))\n",
    "    print(f\"\\nProcessing file:  {file}\")\n",
    "    print(f\"Production mode:  {prod_mode_matrix[index]}\")\n",
    "    events_matrix.append(NanoEventsFactory.from_root(\n",
    "        {file: \"/Events\"},\n",
    "        schemaclass=PFNanoAODSchema\n",
    "    ).events())\n",
    "    index+=1\n",
    "print (events_matrix)"
   ]
  },
  {
   "cell_type": "code",
   "execution_count": null,
   "id": "66f29a13-5d98-4160-8a69-0436dbbf2bbb",
   "metadata": {},
   "outputs": [
    {
     "name": "stdout",
     "output_type": "stream",
     "text": [
      "#--------------------------------------------------------------------------\n",
      "#                         FastJet release 3.4.1\n",
      "#                 M. Cacciari, G.P. Salam and G. Soyez                  \n",
      "#     A software package for jet finding and analysis at colliders      \n",
      "#                           http://fastjet.fr                           \n",
      "#\t                                                                      \n",
      "# Please cite EPJC72(2012)1896 [arXiv:1111.6097] if you use this package\n",
      "# for scientific work and optionally PLB641(2006)57 [hep-ph/0512210].   \n",
      "#                                                                       \n",
      "# FastJet is provided without warranty under the GNU GPL v2 or higher.  \n",
      "# It uses T. Chan's closest pair algorithm, S. Fortune's Voronoi code,\n",
      "# CGAL and 3rd party plugin jet algorithms. See COPYING file for details.\n",
      "#--------------------------------------------------------------------------\n",
      "Saved Coffea file: ggF_beta0_zcut1.coffea\n",
      "Saved plot: ggF-zcut0.0-beta0.0.png\n",
      "Saved Coffea file: VBF_beta0_zcut1.coffea\n",
      "Saved plot: VBF-zcut0.0-beta0.0.png\n"
     ]
    }
   ],
   "source": [
    "index = 0\n",
    "\n",
    "#Main for loop\n",
    "\n",
    "#Runs msdProcessor\n",
    "\n",
    "#Nested loops inside that go through desired beta/z_cut params and calculate SD mass\n",
    "\n",
    "#Saves one .coffea file and one .png histogram for each SD param for each processed file.\n",
    "\n",
    "#n_global = 1 (above) saves one histogram.\n",
    "\n",
    "for events in events_matrix:\n",
    "    result = msdProcessor().process(\n",
    "            events,\n",
    "            beta=beta_range_global,\n",
    "            z_cut=z_cut_range_global,\n",
    "            n=n_global\n",
    "        )\n",
    "    compute = dask.compute(result)\n",
    "    n_betas = n_global\n",
    "    n_zcuts = n_betas\n",
    "    \n",
    "    compute_matrix = [[None for _ in range(n_zcuts)] for _ in range(n_betas)]\n",
    "\n",
    "\n",
    "    #Convuluted way of generating individual beta and zcut combinations\n",
    "    for beta in range(n_betas):\n",
    "        for z_cut in range(n_zcuts):\n",
    "            compute_matrix[beta][z_cut] = compute[0][0][f\"b{beta}{z_cut}\"]\n",
    "            \n",
    "    #Nested loop that processes and saves beta/zcut combinations\n",
    "\n",
    "    x_min, x_max = 0, 400\n",
    "    y_min, y_max = 0, 800\n",
    "    \n",
    "    for z_cut in range(n_zcuts):\n",
    "        for beta in range(n_betas):\n",
    "            if n_global == 1:\n",
    "                current_beta = beta_range_global\n",
    "                current_z_cut = z_cut_range_global\n",
    "            else:\n",
    "                current_beta = trunc(beta * (beta_range_global) / n_global)\n",
    "                current_z_cut = trunc(z_cut * (z_cut_range_global) / n_global)\n",
    "\n",
    "            coffea_filename = f\"{prod_mode_matrix[index]}_beta{current_beta}_zcut{current_z_cut}.coffea\"\n",
    "\n",
    "            # Save the generated beta/zcut combination we found earlier\n",
    "            util.save(compute_matrix[beta][z_cut], coffea_filename)\n",
    "            print(f\"Saved Coffea file: {coffea_filename}\")\n",
    "\n",
    "            fig, ax = plt.subplots()\n",
    "    \n",
    "            current_beta = trunc(beta * (beta_range_global) / n_global)\n",
    "            current_z_cut = trunc(z_cut * (z_cut_range_global) / n_global)\n",
    "    \n",
    "            # Plot the histogram\n",
    "            compute_matrix[beta][z_cut].plot1d(ax=ax, \n",
    "                label=f\"beta = {current_beta}, z_cut = {current_z_cut}\")\n",
    "    \n",
    "            ax.set_xlim(x_min, x_max)\n",
    "            ax.set_ylim(y_min, y_max)\n",
    "        \n",
    "            ax.set_title(f\"File = {prod_mode_matrix[index]}, beta = {current_beta}, z_cut = {current_z_cut}\")\n",
    "        \n",
    "            ax.legend()\n",
    "            plot_filename = f\"{prod_mode_matrix[index]}-zcut{current_z_cut}-beta{current_beta}.png\"\n",
    "            plt.savefig(plot_filename, dpi=300)\n",
    "            plt.close(fig)\n",
    "    \n",
    "            print(f\"Saved plot: {plot_filename}\")\n",
    "\n",
    "    index+=1"
   ]
  },
  {
   "cell_type": "code",
   "execution_count": null,
   "id": "02be5cd9-e4cc-4143-bdb1-e4e0a6047f44",
   "metadata": {},
   "outputs": [],
   "source": []
  }
 ],
 "metadata": {
  "kernelspec": {
   "display_name": "Python 3 (ipykernel)",
   "language": "python",
   "name": "python3"
  },
  "language_info": {
   "codemirror_mode": {
    "name": "ipython",
    "version": 3
   },
   "file_extension": ".py",
   "mimetype": "text/x-python",
   "name": "python",
   "nbconvert_exporter": "python",
   "pygments_lexer": "ipython3",
   "version": "3.12.3"
  }
 },
 "nbformat": 4,
 "nbformat_minor": 5
}
