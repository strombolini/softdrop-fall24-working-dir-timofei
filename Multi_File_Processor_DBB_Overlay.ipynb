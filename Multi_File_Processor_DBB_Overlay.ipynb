{
 "cells": [
  {
   "cell_type": "code",
   "execution_count": 45,
   "id": "1ebb9a35-87f0-4d32-afaa-c42351667f7a",
   "metadata": {},
   "outputs": [
    {
     "name": "stdout",
     "output_type": "stream",
     "text": [
      "The autoreload extension is already loaded. To reload it, use:\n",
      "  %reload_ext autoreload\n"
     ]
    }
   ],
   "source": [
    "%load_ext autoreload\n",
    "from coffea import util, processor\n",
    "from msdprocessor5 import msdProcessor\n",
    "\n",
    "from coffea.nanoevents import NanoEventsFactory, PFNanoAODSchema\n",
    "import json\n",
    "import distributed\n",
    "import dask\n",
    "import awkward as ak\n",
    "import hist\n",
    "import numpy as np\n",
    "import matplotlib.pyplot as plt\n",
    "from matplotlib.colors import LogNorm\n",
    "from matplotlib.animation import FuncAnimation, PillowWriter\n",
    "import matplotlib.colors as mcolors\n",
    "from mpl_toolkits.mplot3d import Axes3D\n",
    "from hist import Hist\n",
    "import dask_awkward\n",
    "import os\n",
    "import math"
   ]
  },
  {
   "cell_type": "code",
   "execution_count": 46,
   "id": "542622f9-8766-478d-89b8-fee7b03f831a",
   "metadata": {},
   "outputs": [
    {
     "name": "stdout",
     "output_type": "stream",
     "text": [
      "Fileset: ['/uscms/home/jennetd/nobackup/hbb-prod-modes/run3-triggers/data-mc/ggF.root']\n"
     ]
    }
   ],
   "source": [
    "directory_path = \"/uscms/home/jennetd/nobackup/hbb-prod-modes/run3-triggers/data-mc/\"\n",
    "\n",
    "#Generating the fileset\n",
    "\n",
    "#If you want to process less files, specify that here:\n",
    "\n",
    "fileset = []\n",
    "for filename in os.listdir(directory_path):\n",
    "    if filename.endswith(\"ggF.root\"):\n",
    "        fileset.append(os.path.join(directory_path, filename))\n",
    "\n",
    "print(\"Fileset:\", fileset)"
   ]
  },
  {
   "cell_type": "code",
   "execution_count": 47,
   "id": "81fd3f3d-9e9b-41e7-9e30-73c6d1ae182f",
   "metadata": {},
   "outputs": [],
   "source": [
    "#SET SOFTDROP PARAMETERS HERE\n",
    "\n",
    "n_global = 20\n",
    "beta_range_global = 1  \n",
    "z_cut_range_global = 0.02\n",
    "\n",
    "#///////"
   ]
  },
  {
   "cell_type": "code",
   "execution_count": 48,
   "id": "2040bedb-bebe-4a47-8fea-a124e372cfcc",
   "metadata": {},
   "outputs": [],
   "source": [
    "#Truncates to 3 decimal places\n",
    "\n",
    "def trunc(num):\n",
    "    return math.trunc(num * 1000) / 1000"
   ]
  },
  {
   "cell_type": "code",
   "execution_count": 49,
   "id": "be5aaa4c-b436-4c84-b7c2-774eb59b9915",
   "metadata": {},
   "outputs": [
    {
     "name": "stdout",
     "output_type": "stream",
     "text": [
      "\n",
      "Processing file:  /uscms/home/jennetd/nobackup/hbb-prod-modes/run3-triggers/data-mc/ggF.root\n",
      "Production mode:  ggF\n",
      "[dask.awkward<from-uproot, npartitions=1>]\n"
     ]
    }
   ],
   "source": [
    "events_matrix = []\n",
    "prod_mode_matrix = []\n",
    "index = 0\n",
    "\n",
    "#Construct a matrix of 1 event per 1 file\n",
    "\n",
    "for file in fileset:\n",
    "    prod_mode_matrix.append(file.split('/data-mc/')[-1].replace('.root', ''))\n",
    "    print(f\"\\nProcessing file:  {file}\")\n",
    "    print(f\"Production mode:  {prod_mode_matrix[index]}\")\n",
    "    events_matrix.append(NanoEventsFactory.from_root(\n",
    "        {file: \"/Events\"},\n",
    "        schemaclass=PFNanoAODSchema\n",
    "    ).events())\n",
    "    index+=1\n",
    "print (events_matrix)"
   ]
  },
  {
   "cell_type": "code",
   "execution_count": 50,
   "id": "66f29a13-5d98-4160-8a69-0436dbbf2bbb",
   "metadata": {},
   "outputs": [
    {
     "name": "stdout",
     "output_type": "stream",
     "text": [
      "['area', 'btagCSVV2', 'btagDDBvLV2', 'btagDDCvBV2', 'btagDDCvLV2', 'btagDeepB', 'btagHbb', 'deepTagMD_H4qvsQCD', 'deepTagMD_HbbvsQCD', 'deepTagMD_TvsQCD', 'deepTagMD_WvsQCD', 'deepTagMD_ZHbbvsQCD', 'deepTagMD_ZHccvsQCD', 'deepTagMD_ZbbvsQCD', 'deepTagMD_ZvsQCD', 'deepTagMD_bbvsLight', 'deepTagMD_ccvsLight', 'deepTag_H', 'deepTag_QCD', 'deepTag_QCDothers', 'deepTag_TvsQCD', 'deepTag_WvsQCD', 'deepTag_ZvsQCD', 'eta', 'mass', 'msoftdrop', 'n2b1', 'n3b1', 'particleNetMD_QCD', 'particleNetMD_Xbb', 'particleNetMD_Xcc', 'particleNetMD_Xqq', 'particleNet_H4qvsQCD', 'particleNet_HbbvsQCD', 'particleNet_HccvsQCD', 'particleNet_QCD', 'particleNet_TvsQCD', 'particleNet_WvsQCD', 'particleNet_ZvsQCD', 'particleNet_mass', 'phi', 'pt', 'rawFactor', 'tau1', 'tau2', 'tau3', 'tau4', 'lsf3', 'jetId', 'subJetIdx1', 'subJetIdx2', 'electronIdx3SJ', 'muonIdx3SJ', 'nConstituents', 'DDX_tau1_flightDistance2dSig', 'DDX_tau1_trackEtaRel_0', 'DDX_tau1_trackEtaRel_1', 'DDX_tau1_trackEtaRel_2', 'DDX_tau1_trackSip3dSig_0', 'DDX_tau1_trackSip3dSig_1', 'DDX_tau1_vertexDeltaR', 'DDX_tau1_vertexEnergyRatio', 'DDX_tau1_vertexMass', 'DDX_tau2_flightDistance2dSig', 'DDX_tau2_trackEtaRel_0', 'DDX_tau2_trackEtaRel_1', 'DDX_tau2_trackEtaRel_3', 'DDX_tau2_trackSip3dSig_0', 'DDX_tau2_trackSip3dSig_1', 'DDX_tau2_vertexEnergyRatio', 'DDX_tau2_vertexMass', 'DDX_trackSip2dSigAboveBottom_0', 'DDX_trackSip2dSigAboveBottom_1', 'DDX_trackSip2dSigAboveCharm', 'DDX_trackSip3dSig_0', 'DDX_trackSip3dSig_1', 'DDX_trackSip3dSig_2', 'DDX_trackSip3dSig_3', 'DDX_z_ratio', 'Proba', 'btagDeepB_b', 'btagDeepB_bb', 'btagDeepL', 'DDX_jetNSecondaryVertices', 'DDX_jetNTracks', 'nBHadrons', 'nCHadrons', 'genJetAK8Idx', 'hadronFlavour', 'genJetAK8IdxG', 'subJetIdx1G', 'subJetIdx2G', 'electronIdx3SJG', 'muonIdx3SJG', 'subJetIdxG', 'pFCandsIdxG']\n",
      "Saved plot: ggF-zcut0.0.png\n",
      "Saved plot: ggF-zcut0.001.png\n",
      "Saved plot: ggF-zcut0.002.png\n",
      "Saved plot: ggF-zcut0.003.png\n",
      "Saved plot: ggF-zcut0.004.png\n",
      "Saved plot: ggF-zcut0.005.png\n",
      "Saved plot: ggF-zcut0.006.png\n",
      "Saved plot: ggF-zcut0.007.png\n",
      "Saved plot: ggF-zcut0.008.png\n",
      "Saved plot: ggF-zcut0.009.png\n",
      "Saved plot: ggF-zcut0.01.png\n",
      "Saved plot: ggF-zcut0.011.png\n",
      "Saved plot: ggF-zcut0.012.png\n",
      "Saved plot: ggF-zcut0.013.png\n",
      "Saved plot: ggF-zcut0.014.png\n",
      "Saved plot: ggF-zcut0.015.png\n",
      "Saved plot: ggF-zcut0.016.png\n",
      "Saved plot: ggF-zcut0.017.png\n",
      "Saved plot: ggF-zcut0.018.png\n",
      "Saved plot: ggF-zcut0.019.png\n"
     ]
    }
   ],
   "source": [
    "index = 0\n",
    "\n",
    "#Main for loop\n",
    "\n",
    "#Runs msdProcessor\n",
    "\n",
    "#Nested loops inside that go through desired beta/z_cut params and calculate SD mass\n",
    "\n",
    "#Saves one .coffea file and one .png histogram for each SD param for each processed file.\n",
    "\n",
    "#n_global = 1 (above) saves one histogram.\n",
    "\n",
    "for events in events_matrix:\n",
    "    result = msdProcessor().process(\n",
    "            events,\n",
    "            beta=beta_range_global,\n",
    "            z_cut=z_cut_range_global,\n",
    "            n=n_global\n",
    "        )\n",
    "    compute = dask.compute(result)\n",
    "    n_betas = n_global\n",
    "    n_zcuts = n_betas\n",
    "    \n",
    "    compute_matrix = [[None for _ in range(n_zcuts)] for _ in range(n_betas)]\n",
    "\n",
    "    #Convuluted way of generating individual beta and zcut combinations\n",
    "    for beta in range(n_betas):\n",
    "        for z_cut in range(n_zcuts):\n",
    "            compute_matrix[beta][z_cut] = compute[0][0][f\"b{beta}{z_cut}\"]\n",
    "            \n",
    "    #Nested loop that processes and saves beta/zcut combinations\n",
    "\n",
    "    x_min, x_max = 0, 200\n",
    "    y_min, y_max = 0, 40\n",
    "\n",
    "    for z_cut in range(n_zcuts):\n",
    "        if n_global == 1:\n",
    "            current_z_cut = z_cut_range_global\n",
    "        else:\n",
    "            current_z_cut = trunc(z_cut * (z_cut_range_global) / n_global)\n",
    "        \n",
    "        fig, ax = plt.subplots()\n",
    "\n",
    "        for beta in range(n_betas):\n",
    "            if n_global == 1:\n",
    "                current_beta = beta_range_global\n",
    "            else:\n",
    "                current_beta = trunc(beta * (beta_range_global) / n_global)\n",
    "\n",
    "            coffea_filename = f\"{prod_mode_matrix[index]}_beta{current_beta}_zcut{current_z_cut}.coffea\"\n",
    "\n",
    "            # Save the generated beta/zcut combination we found earlier\n",
    "            #util.save(compute_matrix[beta][z_cut], coffea_filename)\n",
    "            #print(f\"Saved Coffea file: {coffea_filename}\")\n",
    "\n",
    "            compute_matrix[beta][z_cut].plot1d(ax=ax, \n",
    "                label=f\"beta = {current_beta}, z_cut = {current_z_cut}\")\n",
    "    \n",
    "        ax.set_xlim(x_min, x_max)\n",
    "        ax.set_ylim(y_min, y_max)\n",
    "    \n",
    "        ax.set_title(f\"File = {prod_mode_matrix[index]}, z_cut = {current_z_cut}\")\n",
    "        ax.legend()\n",
    "        plot_filename = f\"{prod_mode_matrix[index]}-zcut{current_z_cut}.png\"\n",
    "        plt.savefig(plot_filename, dpi=300)\n",
    "        plt.close(fig)\n",
    "    \n",
    "        print(f\"Saved plot: {plot_filename}\")\n",
    "\n",
    "    index += 1\n"
   ]
  },
  {
   "cell_type": "code",
   "execution_count": null,
   "id": "02be5cd9-e4cc-4143-bdb1-e4e0a6047f44",
   "metadata": {},
   "outputs": [],
   "source": []
  }
 ],
 "metadata": {
  "kernelspec": {
   "display_name": "Python 3 (ipykernel)",
   "language": "python",
   "name": "python3"
  },
  "language_info": {
   "codemirror_mode": {
    "name": "ipython",
    "version": 3
   },
   "file_extension": ".py",
   "mimetype": "text/x-python",
   "name": "python",
   "nbconvert_exporter": "python",
   "pygments_lexer": "ipython3",
   "version": "3.12.3"
  }
 },
 "nbformat": 4,
 "nbformat_minor": 5
}
